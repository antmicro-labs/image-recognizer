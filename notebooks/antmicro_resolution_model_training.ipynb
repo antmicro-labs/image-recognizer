{
  "nbformat": 4,
  "nbformat_minor": 0,
  "metadata": {
    "colab": {
      "provenance": []
    },
    "kernelspec": {
      "name": "python3",
      "display_name": "Python 3"
    },
    "language_info": {
      "name": "python"
    },
    "accelerator": "GPU",
    "gpuClass": "standard"
  },
  "cells": [
    {
      "cell_type": "code",
      "execution_count": null,
      "metadata": {
        "id": "FGkZaKJHX1un"
      },
      "outputs": [],
      "source": [
        "import os\n",
        "import datetime\n",
        "import math\n",
        "from time import time\n",
        "import tensorflow as tf\n",
        "import matplotlib.pyplot as plt\n",
        "import numpy as np\n",
        "import matplotlib.pyplot as plt\n",
        "from tensorflow.keras import layers, models\n",
        "from PIL import Image\n",
        "from matplotlib.pyplot import imshow"
      ]
    },
    {
      "cell_type": "code",
      "source": [
        "print(tf.__version__)"
      ],
      "metadata": {
        "id": "DyvBrxlXRX6j",
        "outputId": "835a87f5-15ea-4482-b9de-b7220db26685",
        "colab": {
          "base_uri": "https://localhost:8080/"
        }
      },
      "execution_count": null,
      "outputs": [
        {
          "output_type": "stream",
          "name": "stdout",
          "text": [
            "2.9.2\n"
          ]
        }
      ]
    },
    {
      "cell_type": "code",
      "source": [
        "# Augmentation and model\n",
        "IMG_SIZE            = 256\n",
        "IMG_CHANNELS        = 1\n",
        "BATCH_SIZE          = 32\n",
        "PREFETCH_N          = 4\n",
        "SHUFFLE_BUFFER_SIZE = 32\n",
        "TRAIN_PERCENT       = 80\n",
        "TEST_PERCENT        = 10\n",
        "VAL_PERCENT         = 10\n",
        "\n",
        "dataset = tf.data.experimental.load(\"drive/MyDrive/dataset_kacper.tf\")\n",
        "dataset2 = tf.data.experimental.load(\"drive/MyDrive/dataset_kacper_extend.tf\")\n",
        "dataset = dataset.concatenate(dataset2)\n",
        "NR_OF_IMAGES        = len(dataset)\n",
        "NR_OF_TRAIN_IMAGES  = math.floor(NR_OF_IMAGES*(TRAIN_PERCENT/100))\n",
        "NR_OF_TEST_IMAGES   = math.ceil(NR_OF_IMAGES*(TEST_PERCENT/100))\n",
        "NR_OF_VAL_IMAGES    = math.ceil(NR_OF_IMAGES*(VAL_PERCENT/100))\n",
        " \n",
        "# Training\n",
        "EPOCHS = 40\n",
        "STEPS_PER_EPOCH = NR_OF_TRAIN_IMAGES // BATCH_SIZE\n",
        "\n",
        "#Logs and callback\n",
        "logdir = os.path.join(\"logs\", datetime.datetime.now().strftime(\"%Y%m%d-%H%M%S\"))\n",
        "tensorboard_callback = tf.keras.callbacks.TensorBoard(logdir, histogram_freq=1)\n",
        "checkpoint_filepath = 'checkpoint/a/{epoch}'\n",
        "model_checkpoint_callback = tf.keras.callbacks.ModelCheckpoint(\n",
        "    filepath=checkpoint_filepath,\n",
        "    save_weights_only=True,\n",
        "    monitor='acc',\n",
        "    mode='max',\n",
        "    save_best_only=False)\n",
        "stop_callback = tf.keras.callbacks.EarlyStopping(monitor='loss', patience=4)"
      ],
      "metadata": {
        "id": "4eDyY1NpiRt_"
      },
      "execution_count": null,
      "outputs": []
    },
    {
      "cell_type": "code",
      "source": [
        "tf.data.experimental.save(dataset.take(NR_OF_TRAIN_IMAGES), \"drive/MyDrive/dataset.zip\", compression=\"GZIP\")"
      ],
      "metadata": {
        "id": "gSrzAFodma2M"
      },
      "execution_count": null,
      "outputs": []
    },
    {
      "cell_type": "code",
      "source": [
        "!zip -r /content/drive/MyDrive/dt.zip /content/drive/MyDrive/dataset.zip "
      ],
      "metadata": {
        "colab": {
          "base_uri": "https://localhost:8080/"
        },
        "id": "HlWCJEMttc6G",
        "outputId": "67808cd2-2096-48d9-bd98-bb786492366d"
      },
      "execution_count": null,
      "outputs": [
        {
          "output_type": "stream",
          "name": "stdout",
          "text": [
            "  adding: content/drive/MyDrive/dataset.zip/ (stored 0%)\n",
            "  adding: content/drive/MyDrive/dataset.zip/dataset_spec.pb (deflated 9%)\n",
            "  adding: content/drive/MyDrive/dataset.zip/11967020423983626880/ (stored 0%)\n",
            "  adding: content/drive/MyDrive/dataset.zip/11967020423983626880/00000000.shard/ (stored 0%)\n",
            "  adding: content/drive/MyDrive/dataset.zip/11967020423983626880/00000000.shard/00000000.snapshot (deflated 0%)\n",
            "  adding: content/drive/MyDrive/dataset.zip/snapshot.metadata (stored 0%)\n"
          ]
        }
      ]
    },
    {
      "cell_type": "code",
      "source": [
        "def augment(image, label):\n",
        "  #image = tf.image.random_crop(image, size=(224, 224, 1))\n",
        "  image = tf.image.random_flip_left_right(image)\n",
        "  image = tf.image.random_flip_up_down(image)\n",
        "  return image, label\n",
        "\n",
        "def prepare_image(image, label):\n",
        "  image = tf.cast(image, dtype=tf.float32)\n",
        "  image = image/255 - 0.5\n",
        "  #image = tf.expand_dims(image, axis=-1)\n",
        "  return image, label\n",
        "\n",
        "def display_imgs(img, exp, pred):\n",
        "    plt.figure(figsize=(15, 15))\n",
        "    plt.title(f\"Got: {pred}\\nExpected: {exp}\")\n",
        "    plt.imshow(tf.keras.utils.array_to_img(img))\n",
        "    plt.axis(\"off\")\n",
        "    plt.show()"
      ],
      "metadata": {
        "id": "Hs8LM4JUcEBi"
      },
      "execution_count": null,
      "outputs": []
    },
    {
      "cell_type": "code",
      "source": [
        "train = dataset.take(NR_OF_TRAIN_IMAGES)\n",
        "valid = dataset.skip(NR_OF_TRAIN_IMAGES)\n",
        "test = valid.take(NR_OF_TEST_IMAGES)\n",
        "valid = valid.skip(NR_OF_TEST_IMAGES)\n",
        "\n",
        "aug_train = train.map(prepare_image).map(augment).shuffle(1024).batch(BATCH_SIZE, drop_remainder=True).prefetch(PREFETCH_N)\n",
        "valid = valid.map(prepare_image).batch(BATCH_SIZE, drop_remainder=True).prefetch(PREFETCH_N)\n",
        "test  = test.map(prepare_image).batch(BATCH_SIZE, drop_remainder=True)"
      ],
      "metadata": {
        "id": "H2iiPd_DY4Y6"
      },
      "execution_count": null,
      "outputs": []
    },
    {
      "cell_type": "code",
      "source": [
        "model = models.Sequential()\n",
        "model.add(layers.Conv2D(32,(3,3),activation='relu', padding='same'))\n",
        "model.add(layers.MaxPool2D((2,2)))\n",
        "model.add(layers.BatchNormalization())\n",
        "model.add(layers.Conv2D(64,(3,3),activation='relu', padding='same'))\n",
        "model.add(layers.MaxPool2D((2,2)))\n",
        "model.add(layers.BatchNormalization())\n",
        "model.add(layers.Conv2D(128,(3,3),activation='relu', padding='same'))\n",
        "model.add(layers.MaxPool2D((2,2)))\n",
        "model.add(layers.BatchNormalization())\n",
        "model.add(layers.Flatten())\n",
        "model.add(layers.Dense(256,activation='relu'))\n",
        "model.add(layers.Dense(128,activation='relu'))\n",
        "model.add(layers.Dense(64,activation='relu'))\n",
        "model.add(layers.Dense(32,activation='relu'))\n",
        "model.add(layers.Dense(1,activation='sigmoid'))\n",
        "\n",
        "model.compile(loss='binary_crossentropy',optimizer=tf.keras.optimizers.Adam(\n",
        "    learning_rate=0.001),metrics=['accuracy'])"
      ],
      "metadata": {
        "id": "ELqeGh_kazEr"
      },
      "execution_count": null,
      "outputs": []
    },
    {
      "cell_type": "code",
      "source": [
        "model.fit(\n",
        "    epochs=EPOCHS,\n",
        "    x=aug_train,\n",
        "    validation_data=valid,\n",
        "    callbacks=[tensorboard_callback, model_checkpoint_callback, stop_callback]\n",
        ")\n",
        "\n",
        "results = []\n",
        "for i in range(1, EPOCHS + 1):\n",
        "  try:\n",
        "    model.load_weights(f\"checkpoint/a/{i}\")\n",
        "    result = model.evaluate(test)\n",
        "    results.append(result[1])\n",
        "  except:\n",
        "    break\n",
        "\n",
        "best = results.index(max(results)) + 1\n",
        "print(f\"Acc: {max(results)} Best epoch: {best}\")\n",
        "model.load_weights(f\"checkpoint/a/{best}\")\n",
        "model.save('drive/MyDrive/model3.h5')"
      ],
      "metadata": {
        "colab": {
          "base_uri": "https://localhost:8080/"
        },
        "id": "UEXzY4s-m9dz",
        "outputId": "d0e18e81-143e-43eb-89e1-1ffd661980a4"
      },
      "execution_count": null,
      "outputs": [
        {
          "output_type": "stream",
          "name": "stdout",
          "text": [
            "Epoch 1/40\n",
            "2369/2369 [==============================] - 310s 125ms/step - loss: 0.7542 - accuracy: 0.6670 - val_loss: 0.5450 - val_accuracy: 0.7295\n",
            "Epoch 2/40\n",
            "2369/2369 [==============================] - 242s 102ms/step - loss: 0.4210 - accuracy: 0.7988 - val_loss: 0.3804 - val_accuracy: 0.8247\n",
            "Epoch 3/40\n",
            "2369/2369 [==============================] - 242s 102ms/step - loss: 0.3371 - accuracy: 0.8482 - val_loss: 0.2925 - val_accuracy: 0.8742\n",
            "Epoch 4/40\n",
            "2369/2369 [==============================] - 242s 102ms/step - loss: 0.2841 - accuracy: 0.8761 - val_loss: 0.2849 - val_accuracy: 0.8772\n",
            "Epoch 5/40\n",
            "2369/2369 [==============================] - 242s 102ms/step - loss: 0.2415 - accuracy: 0.8980 - val_loss: 0.2655 - val_accuracy: 0.8896\n",
            "Epoch 6/40\n",
            "2369/2369 [==============================] - 271s 114ms/step - loss: 0.2080 - accuracy: 0.9145 - val_loss: 0.2353 - val_accuracy: 0.9016\n",
            "Epoch 7/40\n",
            "2369/2369 [==============================] - 242s 102ms/step - loss: 0.1821 - accuracy: 0.9269 - val_loss: 0.2533 - val_accuracy: 0.9005\n",
            "Epoch 8/40\n",
            "2369/2369 [==============================] - 242s 102ms/step - loss: 0.1580 - accuracy: 0.9374 - val_loss: 0.2293 - val_accuracy: 0.9084\n",
            "Epoch 9/40\n",
            "2369/2369 [==============================] - 241s 101ms/step - loss: 0.1361 - accuracy: 0.9475 - val_loss: 0.2545 - val_accuracy: 0.9110\n",
            "Epoch 10/40\n",
            "2369/2369 [==============================] - 243s 102ms/step - loss: 0.1190 - accuracy: 0.9551 - val_loss: 0.2450 - val_accuracy: 0.9117\n",
            "Epoch 11/40\n",
            "2369/2369 [==============================] - 271s 114ms/step - loss: 0.1048 - accuracy: 0.9607 - val_loss: 0.3014 - val_accuracy: 0.9025\n",
            "Epoch 12/40\n",
            "2369/2369 [==============================] - 242s 102ms/step - loss: 0.0921 - accuracy: 0.9668 - val_loss: 0.2668 - val_accuracy: 0.9096\n",
            "Epoch 13/40\n",
            "2369/2369 [==============================] - 272s 114ms/step - loss: 0.0804 - accuracy: 0.9707 - val_loss: 0.2703 - val_accuracy: 0.9166\n",
            "Epoch 14/40\n",
            "2369/2369 [==============================] - 272s 114ms/step - loss: 0.0752 - accuracy: 0.9736 - val_loss: 0.3212 - val_accuracy: 0.9108\n",
            "Epoch 15/40\n",
            "2369/2369 [==============================] - 271s 114ms/step - loss: 0.0633 - accuracy: 0.9779 - val_loss: 0.2992 - val_accuracy: 0.9156\n",
            "Epoch 16/40\n",
            "2369/2369 [==============================] - 241s 102ms/step - loss: 0.0562 - accuracy: 0.9812 - val_loss: 0.2785 - val_accuracy: 0.9113\n",
            "Epoch 17/40\n",
            "2369/2369 [==============================] - 270s 114ms/step - loss: 0.0548 - accuracy: 0.9807 - val_loss: 0.2993 - val_accuracy: 0.9179\n",
            "Epoch 18/40\n",
            "2369/2369 [==============================] - 240s 101ms/step - loss: 0.0490 - accuracy: 0.9835 - val_loss: 0.3547 - val_accuracy: 0.9069\n",
            "Epoch 19/40\n",
            "2369/2369 [==============================] - 239s 100ms/step - loss: 0.0432 - accuracy: 0.9852 - val_loss: 0.2878 - val_accuracy: 0.9161\n",
            "Epoch 20/40\n",
            "2369/2369 [==============================] - 239s 100ms/step - loss: 0.0433 - accuracy: 0.9859 - val_loss: 0.2655 - val_accuracy: 0.9147\n",
            "Epoch 21/40\n",
            "2369/2369 [==============================] - 270s 114ms/step - loss: 0.0371 - accuracy: 0.9876 - val_loss: 0.3577 - val_accuracy: 0.9220\n",
            "Epoch 22/40\n",
            "2369/2369 [==============================] - 270s 114ms/step - loss: 0.0357 - accuracy: 0.9878 - val_loss: 0.2903 - val_accuracy: 0.9183\n",
            "Epoch 23/40\n",
            "2369/2369 [==============================] - 270s 114ms/step - loss: 0.0346 - accuracy: 0.9883 - val_loss: 0.2782 - val_accuracy: 0.9158\n",
            "Epoch 24/40\n",
            "2369/2369 [==============================] - 270s 113ms/step - loss: 0.0337 - accuracy: 0.9893 - val_loss: 0.3471 - val_accuracy: 0.9160\n",
            "Epoch 25/40\n",
            "2369/2369 [==============================] - 239s 101ms/step - loss: 0.0305 - accuracy: 0.9902 - val_loss: 0.3120 - val_accuracy: 0.9187\n",
            "Epoch 26/40\n",
            "2369/2369 [==============================] - 271s 114ms/step - loss: 0.0292 - accuracy: 0.9905 - val_loss: 0.3944 - val_accuracy: 0.9142\n",
            "Epoch 27/40\n",
            "2369/2369 [==============================] - 239s 101ms/step - loss: 0.0279 - accuracy: 0.9905 - val_loss: 0.3151 - val_accuracy: 0.9151\n",
            "Epoch 28/40\n",
            "2369/2369 [==============================] - 239s 101ms/step - loss: 0.0283 - accuracy: 0.9916 - val_loss: 0.3196 - val_accuracy: 0.9187\n",
            "Epoch 29/40\n",
            "2369/2369 [==============================] - 241s 101ms/step - loss: 0.0237 - accuracy: 0.9923 - val_loss: 0.4276 - val_accuracy: 0.9159\n",
            "Epoch 30/40\n",
            "2369/2369 [==============================] - 241s 101ms/step - loss: 0.0315 - accuracy: 0.9902 - val_loss: 0.3714 - val_accuracy: 0.9206\n",
            "Epoch 31/40\n",
            "2369/2369 [==============================] - 240s 101ms/step - loss: 0.0328 - accuracy: 0.9906 - val_loss: 0.4457 - val_accuracy: 0.9103\n",
            "Epoch 32/40\n",
            "2369/2369 [==============================] - 241s 102ms/step - loss: 0.0253 - accuracy: 0.9920 - val_loss: 0.4068 - val_accuracy: 0.9180\n",
            "Epoch 33/40\n",
            "2369/2369 [==============================] - 241s 101ms/step - loss: 0.0200 - accuracy: 0.9937 - val_loss: 0.4831 - val_accuracy: 0.9176\n",
            "Epoch 34/40\n",
            "2369/2369 [==============================] - 271s 114ms/step - loss: 0.0218 - accuracy: 0.9930 - val_loss: 0.3998 - val_accuracy: 0.9153\n",
            "Epoch 35/40\n",
            "2369/2369 [==============================] - 271s 114ms/step - loss: 0.0234 - accuracy: 0.9928 - val_loss: 0.3960 - val_accuracy: 0.9114\n",
            "Epoch 36/40\n",
            "2369/2369 [==============================] - 241s 101ms/step - loss: 0.0243 - accuracy: 0.9921 - val_loss: 0.3160 - val_accuracy: 0.9211\n",
            "Epoch 37/40\n",
            "2369/2369 [==============================] - 239s 101ms/step - loss: 0.0176 - accuracy: 0.9943 - val_loss: 0.4206 - val_accuracy: 0.9197\n",
            "Epoch 38/40\n",
            "2369/2369 [==============================] - 272s 115ms/step - loss: 0.0278 - accuracy: 0.9926 - val_loss: 0.4043 - val_accuracy: 0.9179\n",
            "Epoch 39/40\n",
            "2369/2369 [==============================] - 274s 115ms/step - loss: 0.0215 - accuracy: 0.9937 - val_loss: 0.3755 - val_accuracy: 0.9155\n",
            "Epoch 40/40\n",
            "2369/2369 [==============================] - 276s 116ms/step - loss: 0.0202 - accuracy: 0.9940 - val_loss: 0.3816 - val_accuracy: 0.9217\n",
            "394/394 [==============================] - 46s 23ms/step - loss: 0.5349 - accuracy: 0.7328\n",
            "394/394 [==============================] - 58s 33ms/step - loss: 0.3823 - accuracy: 0.8260\n",
            "394/394 [==============================] - 34s 23ms/step - loss: 0.2929 - accuracy: 0.8752\n",
            "394/394 [==============================] - 34s 23ms/step - loss: 0.2939 - accuracy: 0.8794\n",
            "394/394 [==============================] - 33s 23ms/step - loss: 0.2668 - accuracy: 0.8921\n",
            "394/394 [==============================] - 33s 23ms/step - loss: 0.2390 - accuracy: 0.9018\n",
            "394/394 [==============================] - 33s 22ms/step - loss: 0.2586 - accuracy: 0.8986\n",
            "394/394 [==============================] - 32s 22ms/step - loss: 0.2383 - accuracy: 0.9060\n",
            "394/394 [==============================] - 32s 22ms/step - loss: 0.2576 - accuracy: 0.9093\n",
            "394/394 [==============================] - 32s 22ms/step - loss: 0.2472 - accuracy: 0.9098\n",
            "394/394 [==============================] - 32s 22ms/step - loss: 0.3093 - accuracy: 0.9000\n",
            "394/394 [==============================] - 31s 22ms/step - loss: 0.2672 - accuracy: 0.9112\n",
            "394/394 [==============================] - 31s 22ms/step - loss: 0.2732 - accuracy: 0.9162\n"
          ]
        }
      ]
    }
  ]
}
